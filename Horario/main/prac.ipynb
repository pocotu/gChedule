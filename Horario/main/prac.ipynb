{
 "cells": [
  {
   "cell_type": "code",
   "execution_count": 6,
   "metadata": {},
   "outputs": [
    {
     "name": "stdout",
     "output_type": "stream",
     "text": [
      "abcde\n"
     ]
    }
   ],
   "source": [
    "# Ejemplo de uso\n",
    "indice = \"abcdefghijklmno\"  # Puedes usar una cadena como ejemplo\n",
    "elite = 5  # Definimos \"elite\" como 5\n",
    "subconjunto = indice[:elite]  # Tomamos los primeros 5 caracteres de la cadena\n",
    "print(subconjunto)  # Resultado: \"abcde\""
   ]
  },
  {
   "cell_type": "code",
   "execution_count": 15,
   "metadata": {},
   "outputs": [
    {
     "name": "stdout",
     "output_type": "stream",
     "text": [
      "Guerra Fría\n"
     ]
    }
   ],
   "source": [
    "conflictos = [\"Guerra Mundial I\", \"Guerra Mundial II\", \"Guerra Fría\"]\n",
    "indice = [2, 1, 0]\n",
    "primer_conflicto = conflictos[indice[0]]  # Accedemos al primer elemento de \"conflictos\" usando el primer carácter de \"indice\"\n",
    "print(primer_conflicto)  # Resultado: \"Guerra Mundial I\""
   ]
  },
  {
   "cell_type": "code",
   "execution_count": null,
   "metadata": {},
   "outputs": [],
   "source": [
    "def Iniciar(self, horarios):\n",
    "    self.poblacion = []\n",
    "    n_poblacion = []"
   ]
  },
  {
   "cell_type": "code",
   "execution_count": 1,
   "metadata": {},
   "outputs": [],
   "source": [
    "#    horarios.append(Agenda(\"Algebra Lineal\",        \"IN103\", 11101))\n",
    "#    horarios.append(Agenda(\"Algebra Lineal\",        \"IN103\", 11101))\n",
    "#    horarios.append(Agenda(\"Matematica 1\",          \"IN102\", 11102))\n",
    "#    horarios.append(Agenda(\"Matematica 1\",          \"IN102\", 11102))\n",
    "#    horarios.append(Agenda(\"Sociedad y cultura\",    \"IN201\", 11103))\n",
    "#    horarios.append(Agenda(\"Sociedad y cultura\",    \"IN201\", 11103))\n",
    "#    horarios.append(Agenda(\"Redaccion de textos\",   \"IN101\", 11106))\n",
    "#    horarios.append(Agenda(\"Redaccion de textos\",   \"IN101\", 11106))\n",
    "#\n",
    "#    horarios.append(Agenda(\"Matematica 1\",          \"IN102\", 11102))\n",
    "#    horarios.append(Agenda(\"Matematica 1\",          \"IN102\", 11102))\n",
    "#    horarios.append(Agenda(\"Filosofia y Etica\",     \"IN101\", 11104))\n",
    "#    horarios.append(Agenda(\"Filosofia y Etica\",     \"IN101\", 11104))\n",
    "#    horarios.append(Agenda(\"Redaccion de textos\",   \"IN101\", 11106))\n",
    "#    horarios.append(Agenda(\"Redaccion de textos\",   \"IN101\", 11106))\n",
    "#\n",
    "#    horarios.append(Agenda(\"Sociedad y cultura\",    \"IN201\", 11103))\n",
    "#    horarios.append(Agenda(\"Sociedad y cultura\",    \"IN201\", 11103))\n",
    "#    horarios.append(Agenda(\"Filosofia y Etica\",     \"IN101\", 11104))\n",
    "#    horarios.append(Agenda(\"Filosofia y Etica\",     \"IN101\", 11104))\n",
    "#    horarios.append(Agenda(\"Coro\",                  \"IN108\", 11105))\n",
    "#    horarios.append(Agenda(\"Coro\",                  \"IN108\", 11105))\n",
    "#    horarios.append(Agenda(\"Redaccion de textos\",   \"IN101\", 11106))\n",
    "#    horarios.append(Agenda(\"Redaccion de textos\",   \"IN101\", 11106))"
   ]
  },
  {
   "cell_type": "code",
   "execution_count": null,
   "metadata": {},
   "outputs": [],
   "source": [
    "#    horarios.append(Agenda('Algebra Lineal',        1201, 11101))\n",
    "#    horarios.append(Agenda('Algebra Lineal',        1201, 11101))\n",
    "#    horarios.append(Agenda('Matematica 1',          1201, 11102))\n",
    "#    horarios.append(Agenda('Matematica 1',          1201, 11102))\n",
    "#    horarios.append(Agenda('Sociedad y Cultura',    1201, 11103))\n",
    "#    horarios.append(Agenda('Sociedad y Cultura',    1201, 11103))\n",
    "#    horarios.append(Agenda('Redaccion de textos',   1201, 11106))\n",
    "#    horarios.append(Agenda('Redaccion de textos',   1201, 11106))\n",
    "#\n",
    "#    horarios.append(Agenda('Matematica 1',          1202, 11102))\n",
    "#    horarios.append(Agenda('Matematica 1',          1202, 11102))\n",
    "#    horarios.append(Agenda('Filosofia',             1202, 11104))\n",
    "#    horarios.append(Agenda('Filosofia',             1202, 11104))\n",
    "#    horarios.append(Agenda('Redaccion de textos',   1202, 11106))\n",
    "#    horarios.append(Agenda('Redaccion de textos',   1202, 11106))\n",
    "#\n",
    "#    horarios.append(Agenda('Sociedad y Cultura',    1203, 11103))\n",
    "#    horarios.append(Agenda('Sociedad y Cultura',    1203, 11103))\n",
    "#    horarios.append(Agenda('Filosofia',             1203, 11104))\n",
    "#    horarios.append(Agenda('Filosofia',             1203, 11104))\n",
    "#    horarios.append(Agenda('Coro',                  1203, 11105))\n",
    "#    horarios.append(Agenda('Coro',                  1203, 11105))\n",
    "#    horarios.append(Agenda('Redaccion de textos',   1203, 11106))\n",
    "#    horarios.append(Agenda('Redaccion de textos',   1203, 11106))"
   ]
  }
 ],
 "metadata": {
  "kernelspec": {
   "display_name": "Practi",
   "language": "python",
   "name": "python3"
  },
  "language_info": {
   "codemirror_mode": {
    "name": "ipython",
    "version": 3
   },
   "file_extension": ".py",
   "mimetype": "text/x-python",
   "name": "python",
   "nbconvert_exporter": "python",
   "pygments_lexer": "ipython3",
   "version": "3.9.17"
  }
 },
 "nbformat": 4,
 "nbformat_minor": 2
}
