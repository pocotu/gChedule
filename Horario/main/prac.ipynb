{
 "cells": [
  {
   "cell_type": "code",
   "execution_count": 6,
   "metadata": {},
   "outputs": [
    {
     "name": "stdout",
     "output_type": "stream",
     "text": [
      "abcde\n"
     ]
    }
   ],
   "source": [
    "# Ejemplo de uso\n",
    "indice = \"abcdefghijklmno\"  # Puedes usar una cadena como ejemplo\n",
    "elite = 5  # Definimos \"elite\" como 5\n",
    "subconjunto = indice[:elite]  # Tomamos los primeros 5 caracteres de la cadena\n",
    "print(subconjunto)  # Resultado: \"abcde\""
   ]
  },
  {
   "cell_type": "code",
   "execution_count": 15,
   "metadata": {},
   "outputs": [
    {
     "name": "stdout",
     "output_type": "stream",
     "text": [
      "Guerra Fría\n"
     ]
    }
   ],
   "source": [
    "conflictos = [\"Guerra Mundial I\", \"Guerra Mundial II\", \"Guerra Fría\"]\n",
    "indice = [2, 1, 0]\n",
    "primer_conflicto = conflictos[indice[0]]  # Accedemos al primer elemento de \"conflictos\" usando el primer carácter de \"indice\"\n",
    "print(primer_conflicto)  # Resultado: \"Guerra Mundial I\""
   ]
  },
  {
   "cell_type": "code",
   "execution_count": null,
   "metadata": {},
   "outputs": [],
   "source": [
    "def Iniciar(self, horarios):\n",
    "    self.poblacion = []\n",
    "    n_poblacion = []"
   ]
  },
  {
   "cell_type": "code",
   "execution_count": 1,
   "metadata": {},
   "outputs": [],
   "source": [
    "#    horarios.append(Agenda(\"Algebra Lineal\",        \"IN103\", 11101))\n",
    "#    horarios.append(Agenda(\"Algebra Lineal\",        \"IN103\", 11101))\n",
    "#    horarios.append(Agenda(\"Matematica 1\",          \"IN102\", 11102))\n",
    "#    horarios.append(Agenda(\"Matematica 1\",          \"IN102\", 11102))\n",
    "#    horarios.append(Agenda(\"Sociedad y cultura\",    \"IN201\", 11103))\n",
    "#    horarios.append(Agenda(\"Sociedad y cultura\",    \"IN201\", 11103))\n",
    "#    horarios.append(Agenda(\"Redaccion de textos\",   \"IN101\", 11106))\n",
    "#    horarios.append(Agenda(\"Redaccion de textos\",   \"IN101\", 11106))\n",
    "#\n",
    "#    horarios.append(Agenda(\"Matematica 1\",          \"IN102\", 11102))\n",
    "#    horarios.append(Agenda(\"Matematica 1\",          \"IN102\", 11102))\n",
    "#    horarios.append(Agenda(\"Filosofia y Etica\",     \"IN101\", 11104))\n",
    "#    horarios.append(Agenda(\"Filosofia y Etica\",     \"IN101\", 11104))\n",
    "#    horarios.append(Agenda(\"Redaccion de textos\",   \"IN101\", 11106))\n",
    "#    horarios.append(Agenda(\"Redaccion de textos\",   \"IN101\", 11106))\n",
    "#\n",
    "#    horarios.append(Agenda(\"Sociedad y cultura\",    \"IN201\", 11103))\n",
    "#    horarios.append(Agenda(\"Sociedad y cultura\",    \"IN201\", 11103))\n",
    "#    horarios.append(Agenda(\"Filosofia y Etica\",     \"IN101\", 11104))\n",
    "#    horarios.append(Agenda(\"Filosofia y Etica\",     \"IN101\", 11104))\n",
    "#    horarios.append(Agenda(\"Coro\",                  \"IN108\", 11105))\n",
    "#    horarios.append(Agenda(\"Coro\",                  \"IN108\", 11105))\n",
    "#    horarios.append(Agenda(\"Redaccion de textos\",   \"IN101\", 11106))\n",
    "#    horarios.append(Agenda(\"Redaccion de textos\",   \"IN101\", 11106))"
   ]
  },
  {
   "cell_type": "code",
   "execution_count": null,
   "metadata": {},
   "outputs": [],
   "source": [
    "#    horarios.append(Agenda('Algebra Lineal',        1201, 11101))\n",
    "#    horarios.append(Agenda('Algebra Lineal',        1201, 11101))\n",
    "#    horarios.append(Agenda('Matematica 1',          1201, 11102))\n",
    "#    horarios.append(Agenda('Matematica 1',          1201, 11102))\n",
    "#    horarios.append(Agenda('Sociedad y Cultura',    1201, 11103))\n",
    "#    horarios.append(Agenda('Sociedad y Cultura',    1201, 11103))\n",
    "#    horarios.append(Agenda('Redaccion de textos',   1201, 11106))\n",
    "#    horarios.append(Agenda('Redaccion de textos',   1201, 11106))\n",
    "#\n",
    "#    horarios.append(Agenda('Matematica 1',          1202, 11102))\n",
    "#    horarios.append(Agenda('Matematica 1',          1202, 11102))\n",
    "#    horarios.append(Agenda('Filosofia',             1202, 11104))\n",
    "#    horarios.append(Agenda('Filosofia',             1202, 11104))\n",
    "#    horarios.append(Agenda('Redaccion de textos',   1202, 11106))\n",
    "#    horarios.append(Agenda('Redaccion de textos',   1202, 11106))\n",
    "#\n",
    "#    horarios.append(Agenda('Sociedad y Cultura',    1203, 11103))\n",
    "#    horarios.append(Agenda('Sociedad y Cultura',    1203, 11103))\n",
    "#    horarios.append(Agenda('Filosofia',             1203, 11104))\n",
    "#    horarios.append(Agenda('Filosofia',             1203, 11104))\n",
    "#    horarios.append(Agenda('Coro',                  1203, 11105))\n",
    "#    horarios.append(Agenda('Coro',                  1203, 11105))\n",
    "#    horarios.append(Agenda('Redaccion de textos',   1203, 11106))\n",
    "#    horarios.append(Agenda('Redaccion de textos',   1203, 11106))"
   ]
  },
  {
   "cell_type": "code",
   "execution_count": null,
   "metadata": {},
   "outputs": [],
   "source": [
    "#    horarios = [\n",
    "#        Agenda('Algebra Lineal',        '103', 'Ines'),\n",
    "#        Agenda('Algebra Lineal',        '103', 'Ines'),\n",
    "#        Agenda('Matematica 1',          '102', 'Donato'),\n",
    "#        Agenda('Matematica 1',          '102', 'Donato'),\n",
    "#        Agenda('Sociedad y Cultura',    '201', 'Edwin'),\n",
    "#        Agenda('Sociedad y Cultura',    '201', 'Edwin'),\n",
    "#        Agenda('Redaccion de textos',   '101', 'Carla'),\n",
    "#        Agenda('Redaccion de textos',   '101', 'Carla'),\n",
    "#\n",
    "#        Agenda('Matematica 1',          '102', 'Donato'),\n",
    "#        Agenda('Matematica 1',          '102', 'Donato'),\n",
    "#        Agenda('Filosofia',             '101', 'Jose'),\n",
    "#        Agenda('Filosofia',             '101', 'Jose'),\n",
    "#        Agenda('Redaccion de textos',   '101', 'Carla'),\n",
    "#        Agenda('Redaccion de textos',   '101', 'Carla'),\n",
    "#\n",
    "#        Agenda('Sociedad y Cultura',    '201', 'Edwin'),\n",
    "#        Agenda('Sociedad y Cultura',    '201', 'Edwin'),\n",
    "#        Agenda('Filosofia',             '101', 'Jose'),\n",
    "#        Agenda('Filosofia',             '101', 'Jose'),\n",
    "#        Agenda('Coro',                  '108', 'Ray'),\n",
    "#        Agenda('Coro',                  '108', 'Ray'),\n",
    "#        Agenda('Redaccion de textos',   '101', 'Carla'),\n",
    "#        Agenda('Redaccion de textos',   '101', 'Carla')\n",
    "#    ]"
   ]
  },
  {
   "cell_type": "code",
   "execution_count": null,
   "metadata": {},
   "outputs": [],
   "source": [
    "#    horarios = [\n",
    "#        Agenda('Algebra Lineal',        1201, 11101),\n",
    "#        Agenda('Algebra Lineal',        1201, 11101),\n",
    "#        Agenda('Matematica 1',          1201, 11102),\n",
    "#        Agenda('Matematica 1',          1201, 11102),\n",
    "#        Agenda('Sociedad y Cultura',    1201, 11103),\n",
    "#        Agenda('Sociedad y Cultura',    1201, 11103),\n",
    "#        Agenda('Redaccion de textos',   1201, 11106),\n",
    "#        Agenda('Redaccion de textos',   1201, 11106),\n",
    "#\n",
    "#        Agenda('Matematica 1',          1202, 11102),\n",
    "#        Agenda('Matematica 1',          1202, 11102),\n",
    "#        Agenda('Filosofia',             1202, 11104),\n",
    "#        Agenda('Filosofia',             1202, 11104),\n",
    "#        Agenda('Redaccion de textos',   1202, 11106),\n",
    "#        Agenda('Redaccion de textos',   1202, 11106),\n",
    "#\n",
    "#        Agenda('Sociedad y Cultura',    1203, 11103),\n",
    "#        Agenda('Sociedad y Cultura',    1203, 11103),\n",
    "#        Agenda('Filosofia',             1203, 11104),\n",
    "#        Agenda('Filosofia',             1203, 11104),\n",
    "#        Agenda('Coro',                  1203, 11105),\n",
    "#        Agenda('Coro',                  1203, 11105),\n",
    "#        Agenda('Redaccion de textos',   1203, 11106),\n",
    "#        Agenda('Redaccion de textos',   1203, 11106)\n",
    "#    ]"
   ]
  },
  {
   "cell_type": "code",
   "execution_count": null,
   "metadata": {},
   "outputs": [],
   "source": [
    "#    horarios = [\n",
    "#        Agenda('Algebra Lineal',        {'IN103':103}, {'Ines'  :11101}),\n",
    "#        Agenda('Algebra Lineal',        {'IN103':103}, {'Ines'  :11101}),\n",
    "#        Agenda('Matematica 1',          {'IN102':102}, {'Donato':11102}),\n",
    "#        Agenda('Matematica 1',          {'IN102':102}, {'Donato':11102}),\n",
    "#        Agenda('Sociedad y Cultura',    {'IN201':201}, {'Edwin' :11103}),\n",
    "#        Agenda('Sociedad y Cultura',    {'IN201':201}, {'Edwin' :11103}),\n",
    "#        Agenda('Redaccion de textos',   {'IN101':101}, {'Carla' :11106}),\n",
    "#        Agenda('Redaccion de textos',   {'IN101':101}, {'Carla' :11106}),\n",
    "#\n",
    "#        Agenda('Matematica 1',          {'IN102':102}, {'Donato' :11102}),\n",
    "#        Agenda('Matematica 1',          {'IN102':102}, {'Donato' :11102}),\n",
    "#        Agenda('Filosofia',             {'IN101':101}, {'Jose'   :11104}),\n",
    "#        Agenda('Filosofia',             {'IN101':101}, {'Jose'   :11104}),\n",
    "#        Agenda('Redaccion de textos',   {'IN101':101}, {'Carla'  :11106}),\n",
    "#        Agenda('Redaccion de textos',   {'IN101':101}, {'Carla'  :11106}),\n",
    "#\n",
    "#        Agenda('Sociedad y Cultura',    {'IN201':201}, {'Edwin' :11103}),\n",
    "#        Agenda('Sociedad y Cultura',    {'IN201':201}, {'Edwin' :11103}),\n",
    "#        Agenda('Filosofia',             {'IN101':101}, {'Jose'  :11104}),\n",
    "#        Agenda('Filosofia',             {'IN101':101}, {'Jose'  :11104}),\n",
    "#        Agenda('Coro',                  {'IN108':108}, {'Ray'   :11105}),\n",
    "#        Agenda('Coro',                  {'IN108':108}, {'Ray'   :11105}),\n",
    "#        Agenda('Redaccion de textos',   {'IN101':101}, {'Carla' :11106}),\n",
    "#        Agenda('Redaccion de textos',   {'IN101':101}, {'Carla' :11106})\n",
    "#    ]"
   ]
  },
  {
   "cell_type": "code",
   "execution_count": null,
   "metadata": {},
   "outputs": [],
   "source": [
    "#    horarios = [\n",
    "#        Agenda('Algebra Lineal',        103, 11101),\n",
    "#        Agenda('Algebra Lineal',        103, 11101),\n",
    "#        Agenda('Matematica 1',          102, 11102),\n",
    "#        Agenda('Matematica 1',          102, 11102),\n",
    "#        Agenda('Sociedad y Cultura',    201, 11103),\n",
    "#        Agenda('Sociedad y Cultura',    201, 11103),\n",
    "#        Agenda('Redaccion de textos',   101, 11106),\n",
    "#        Agenda('Redaccion de textos',   101, 11106),\n",
    "#\n",
    "#        Agenda('Matematica 1',          102, 11102),\n",
    "#        Agenda('Matematica 1',          102, 11102),\n",
    "#        Agenda('Filosofia',             101, 11104),\n",
    "#        Agenda('Filosofia',             101, 11104),\n",
    "#        Agenda('Redaccion de textos',   101, 11106),\n",
    "#        Agenda('Redaccion de textos',   101, 11106),\n",
    "#\n",
    "#        Agenda('Sociedad y Cultura',    201, 11103),\n",
    "#        Agenda('Sociedad y Cultura',    201, 11103),\n",
    "#        Agenda('Filosofia',             101, 11104),\n",
    "#        Agenda('Filosofia',             101, 11104),\n",
    "#        Agenda('Coro',                  108, 11105),\n",
    "#        Agenda('Coro',                  108, 11105),\n",
    "#        Agenda('Redaccion de textos',   101, 11106),\n",
    "#        Agenda('Redaccion de textos',   101, 11106)\n",
    "#    ]"
   ]
  },
  {
   "cell_type": "code",
   "execution_count": 2,
   "metadata": {},
   "outputs": [],
   "source": [
    "#print(f'\\033[93m==== conflicto en Salon: {p[i].idSalon}, Dia: {p[i].diaSemana}, Hora: {p[i].horario}\\033[0m')\n",
    "#print(f'\\033[93m==== conflicto en Clase: {p[i].idClase }, Dia: {p[i].diaSemana}, Hora: {p[i].horario}\\033[0m')\n",
    "#print(f'\\033[93m==== conflicto en Docente: {p[i].idDocente}, Dia {p[i].diaSemana}, Hora: {p[i].horario}\\033[0m')\n",
    "#print(f'\\033[93m==== conflicto en Clase: {p[i].idClase}, Curso: {p[i].idCurso}, Dia: {p[i].diaSemana}\\033[0m')"
   ]
  },
  {
   "cell_type": "code",
   "execution_count": null,
   "metadata": {},
   "outputs": [],
   "source": [
    "#    horarios = [\n",
    "#        Agenda('Algebra Lineal',        1201, 11101, 103, 3, 4),\n",
    "#        Agenda('Algebra Lineal',        1201, 11101, 103, 3, 4),\n",
    "#        Agenda('Matematica 1',          1201, 11102, 102, 2, 5),\n",
    "#        Agenda('Matematica 1',          1201, 11102, 102, 2, 5),\n",
    "#        Agenda('Sociedad y Cultura',    1201, 11103, 201, 1, 1),\n",
    "#        Agenda('Sociedad y Cultura',    1201, 11103, 201, 1, 1),\n",
    "#        Agenda('Redaccion de textos',   1201, 11106, 101, 4, 3),\n",
    "#        Agenda('Redaccion de textos',   1201, 11106, 101, 4, 3),\n",
    "#\n",
    "#        Agenda('Matematica 1',          1202, 11102, 102, 2, 5), \n",
    "#        Agenda('Matematica 1',          1202, 11102, 102, 2, 5),\n",
    "#        Agenda('Filosofia',             1202, 11104, 101, 3, 1),\n",
    "#        Agenda('Filosofia',             1202, 11104, 101, 3, 1),\n",
    "#        Agenda('Redaccion de textos',   1202, 11106, 101, 4, 3),\n",
    "#        Agenda('Redaccion de textos',   1202, 11106, 101, 4, 3),\n",
    "#\n",
    "#        Agenda('Sociedad y Cultura',    1203, 11103, 201, 1, 1),\n",
    "#        Agenda('Sociedad y Cultura',    1203, 11103, 201, 1, 1),\n",
    "#        Agenda('Filosofia',             1203, 11104, 101, 3, 1),\n",
    "#        Agenda('Filosofia',             1203, 11104, 101, 3, 1),\n",
    "#        Agenda('Coro',                  1203, 11105, 108, 5, 2),\n",
    "#        Agenda('Coro',                  1203, 11105, 108, 5, 2),\n",
    "#        Agenda('Redaccion de textos',   1203, 11106, 101, 4, 3),\n",
    "#        Agenda('Redaccion de textos',   1203, 11106, 101, 4, 3)\n",
    "#    ]"
   ]
  },
  {
   "cell_type": "code",
   "execution_count": null,
   "metadata": {},
   "outputs": [],
   "source": [
    "#horarios = [\n",
    "#    Agenda('Algebra Lineal'     , 'A', 'Docente 1', 103, 3, 4),\n",
    "#    Agenda('Algebra Lineal'     , 'A', 'Docente 1', 103, 3, 4),\n",
    "#    Agenda('Matematica 1'       , 'A', 'Docente 2', 102, 2, 5),\n",
    "#    Agenda('Matematica 1'       , 'A', 'Docente 2', 102, 2, 5),\n",
    "#    Agenda('Sociedad y Cultura' , 'A', 'Docente 3', 201, 1, 1),\n",
    "#    Agenda('Sociedad y Cultura' , 'A', 'Docente 3', 201, 1, 1),\n",
    "#    Agenda('Redaccion de textos', 'A', 'Docente 6', 101, 4, 3),\n",
    "#    Agenda('Redaccion de textos', 'A', 'Docente 6', 101, 4, 3),\n",
    "#\n",
    "#    Agenda('Matematica 1'       , 'B', 'Docente 2', 102, 2, 5), \n",
    "#    Agenda('Matematica 1'       , 'B', 'Docente 2', 102, 2, 5),\n",
    "#    Agenda('Filosofia'          , 'B', 'Docente 4', 101, 3, 1),\n",
    "#    Agenda('Filosofia'          , 'B', 'Docente 4', 101, 3, 1),\n",
    "#    Agenda('Redaccion de textos', 'B', 'Docente 6', 101, 4, 3),\n",
    "#    Agenda('Redaccion de textos', 'B', 'Docente 6', 101, 4, 3),\n",
    "#\n",
    "#    Agenda('Sociedad y Cultura' , 'C', 'Docente 3', 201, 1, 1),\n",
    "#    Agenda('Sociedad y Cultura' , 'C', 'Docente 3', 201, 1, 1),\n",
    "#    Agenda('Filosofia'          , 'C', 'Docente 4', 101, 3, 1),\n",
    "#    Agenda('Filosofia'          , 'C', 'Docente 4', 101, 3, 1),\n",
    "#    Agenda('Coro'               , 'C', 'Docente 5', 108, 5, 2),\n",
    "#    Agenda('Coro'               , 'C', 'Docente 5', 108, 5, 2),\n",
    "#    Agenda('Redaccion de textos', 'C', 'Docente 6', 101, 4, 3),\n",
    "#    Agenda('Redaccion de textos', 'C', 'Docente 6', 101, 4, 3)\n",
    "#]"
   ]
  }
 ],
 "metadata": {
  "kernelspec": {
   "display_name": "Practi",
   "language": "python",
   "name": "python3"
  },
  "language_info": {
   "codemirror_mode": {
    "name": "ipython",
    "version": 3
   },
   "file_extension": ".py",
   "mimetype": "text/x-python",
   "name": "python",
   "nbconvert_exporter": "python",
   "pygments_lexer": "ipython3",
   "version": "3.9.17"
  }
 },
 "nbformat": 4,
 "nbformat_minor": 2
}
